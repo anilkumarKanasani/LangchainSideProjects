{
  "nbformat": 4,
  "nbformat_minor": 0,
  "metadata": {
    "colab": {
      "provenance": [],
      "collapsed_sections": [
        "CoXVbDZZJ-Dh"
      ],
      "authorship_tag": "ABX9TyOd1o549DtIyt+yqKiF4U0c",
      "include_colab_link": true
    },
    "kernelspec": {
      "name": "python3",
      "display_name": "Python 3"
    },
    "language_info": {
      "name": "python"
    }
  },
  "cells": [
    {
      "cell_type": "markdown",
      "metadata": {
        "id": "view-in-github",
        "colab_type": "text"
      },
      "source": [
        "<a href=\"https://colab.research.google.com/github/anilkumarKanasani/LangchainSideProjects/blob/main/4_Marketing_Tool.ipynb\" target=\"_parent\"><img src=\"https://colab.research.google.com/assets/colab-badge.svg\" alt=\"Open In Colab\"/></a>"
      ]
    },
    {
      "cell_type": "markdown",
      "source": [
        "## Installation"
      ],
      "metadata": {
        "id": "CoXVbDZZJ-Dh"
      }
    },
    {
      "cell_type": "code",
      "execution_count": 4,
      "metadata": {
        "id": "57TOGXHXCVTm"
      },
      "outputs": [],
      "source": [
        "!pip install langchain -q\n",
        "!pip install Openai -q\n",
        "!pip install tiktoken -q\n",
        "!pip install faiss-cpu -q\n",
        "!pip install environs -q\n",
        "!pip install streamlit -q"
      ]
    },
    {
      "cell_type": "code",
      "source": [
        "from environs import Env\n",
        "env = Env()\n",
        "# Read .env into os.environ\n",
        "env.read_env(\"./env\")"
      ],
      "metadata": {
        "id": "9dMfk5-VGWaW"
      },
      "execution_count": 5,
      "outputs": []
    },
    {
      "cell_type": "markdown",
      "source": [
        "## Marketing app"
      ],
      "metadata": {
        "id": "pv_P75IMpZBv"
      }
    },
    {
      "cell_type": "code",
      "source": [
        "%%writefile app.py\n",
        "import streamlit as st\n",
        "from langchain.llms import OpenAI\n",
        "from langchain.prompts import PromptTemplate\n",
        "from langchain import FewShotPromptTemplate\n",
        "from langchain.prompts.example_selector import LengthBasedExampleSelector\n",
        "\n",
        "llm = OpenAI(temperature=.9, model=\"text-davinci-003\")\n",
        "\n",
        "examples = [\n",
        "    {\n",
        "        \"query\": \"What is a mobile?\",\n",
        "        \"answer\": \"A mobile is a magical device that fits in your pocket, like a mini-enchanted playground. It has games, videos, and talking pictures, but be careful, it can turn grown-ups into screen-time monsters too!\"\n",
        "    }, {\n",
        "        \"query\": \"What are your dreams?\",\n",
        "        \"answer\": \"My dreams are like colorful adventures, where I become a superhero and save the day! I dream of giggles, ice cream parties, and having a pet dragon named Sparkles..\"\n",
        "    }, {\n",
        "        \"query\": \" What are your ambitions?\",\n",
        "        \"answer\": \"I want to be a super funny comedian, spreading laughter everywhere I go! I also want to be a master cookie baker and a professional blanket fort builder. Being mischievous and sweet is just my bonus superpower!\"\n",
        "    }, {\n",
        "        \"query\": \"What happens when you get sick?\",\n",
        "        \"answer\": \"When I get sick, it's like a sneaky monster visits. I feel tired, sniffly, and need lots of cuddles. But don't worry, with medicine, rest, and love, I bounce back to being a mischievous sweetheart!\"\n",
        "    }, {\n",
        "        \"query\": \"WHow much do you love your dad?\",\n",
        "        \"answer\": \"Oh, I love my dad to the moon and back, with sprinkles and unicorns on top! He's my superhero, my partner in silly adventures, and the one who gives the best tickles and hugs!\"\n",
        "    }, {\n",
        "        \"query\": \"Tell me about your friend?\",\n",
        "        \"answer\": \"My friend is like a sunshine rainbow! We laugh, play, and have magical parties together. They always listen, share their toys, and make me feel special. Friendship is the best adventure!\"\n",
        "    }, {\n",
        "        \"query\": \"What math means to you?\",\n",
        "        \"answer\": \"Math is like a puzzle game, full of numbers and shapes. It helps me count my toys, build towers, and share treats equally. It's fun and makes my brain sparkle!\"\n",
        "    }, {\n",
        "        \"query\": \"What is your fear?\",\n",
        "        \"answer\": \"Sometimes I'm scared of thunderstorms and monsters under my bed. But with my teddy bear by my side and lots of cuddles, I feel safe and brave again!\"\n",
        "    }\n",
        "]\n",
        "\n",
        "def get_prmpt_templte(numberOfWords,\n",
        "                      inp_age_option,\n",
        "                      inp_tasktype_option,\n",
        "                      inp_userInput):\n",
        "\n",
        "  example_template = \"\"\"\n",
        "  Question: {query}\n",
        "  Response: {answer}\n",
        "  \"\"\"\n",
        "\n",
        "  example_prompt = PromptTemplate(\n",
        "      input_variables=[\"query\", \"answer\"],\n",
        "      template=example_template\n",
        "  )\n",
        "\n",
        "\n",
        "  example_selector = LengthBasedExampleSelector(\n",
        "      examples=examples,\n",
        "      example_prompt=example_prompt,\n",
        "      max_length=numberOfWords\n",
        "  )\n",
        "\n",
        "  prefix = \"\"\"You are a {age_option}, and {tasktype_option} :\n",
        "  Here are some examples:\n",
        "  \"\"\"\n",
        "\n",
        "  suffix = \"\"\"\n",
        "  Question: {userInput}\n",
        "  Response: \"\"\"\n",
        "\n",
        "\n",
        "  new_prompt_template = FewShotPromptTemplate(\n",
        "      example_selector=example_selector,  # use example_selector instead of examples\n",
        "      example_prompt=example_prompt,\n",
        "      prefix=prefix,\n",
        "      suffix=suffix,\n",
        "      input_variables=[\"age_option\", \"tasktype_option\", \"userInput\"],\n",
        "      example_separator=\"\\n\"\n",
        "  )\n",
        "\n",
        "  final_prompt = new_prompt_template.format(age_option=inp_age_option,\n",
        "                             tasktype_option=inp_tasktype_option,\n",
        "                             userInput=inp_userInput)\n",
        "\n",
        "  return final_prompt\n",
        "\n",
        "\n",
        "\n",
        "#UI Starts here\n",
        "\n",
        "st.set_page_config(page_title=\"Marketing Tool\",\n",
        "                    page_icon='✅',\n",
        "                    layout='centered',\n",
        "                    initial_sidebar_state='collapsed')\n",
        "st.header(\"Hey, How can I help you?\")\n",
        "\n",
        "form_input = st.text_area('Enter text', height=50)\n",
        "\n",
        "inp_tasktype_option = st.selectbox(\n",
        "    'Please select the action to be performed?',\n",
        "    ('Write a sales copy', 'Create a tweet', 'Write a product description'),key=1)\n",
        "\n",
        "inp_age_option= st.selectbox(\n",
        "    'For which age group?',\n",
        "    ('Kid', 'Adult', 'senior Citizen'),key=2)\n",
        "\n",
        "numberOfWords= st.slider('Words limit', 1, 200, 25)\n",
        "\n",
        "submit = st.button(\"Generate\")\n",
        "\n",
        "if submit:\n",
        "  our_prompt = get_prmpt_templte(numberOfWords,\n",
        "                                  inp_age_option,\n",
        "                                  inp_tasktype_option,\n",
        "                                  form_input)\n",
        "  st.header(\"Response : \")\n",
        "  st.write(llm(our_prompt))\n"
      ],
      "metadata": {
        "colab": {
          "base_uri": "https://localhost:8080/"
        },
        "id": "ISGZT-wO7ycI",
        "outputId": "0239d667-5ceb-4d8e-a09f-d863fe0b2dcb"
      },
      "execution_count": 9,
      "outputs": [
        {
          "output_type": "stream",
          "name": "stdout",
          "text": [
            "Overwriting app.py\n"
          ]
        }
      ]
    },
    {
      "cell_type": "code",
      "source": [
        "!streamlit run app.py & npx localtunnel --port 8501"
      ],
      "metadata": {
        "id": "0XIojnJW7_0E"
      },
      "execution_count": null,
      "outputs": []
    }
  ]
}