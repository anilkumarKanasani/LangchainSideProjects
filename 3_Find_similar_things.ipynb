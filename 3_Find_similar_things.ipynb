{
  "nbformat": 4,
  "nbformat_minor": 0,
  "metadata": {
    "colab": {
      "provenance": [],
      "collapsed_sections": [
        "CoXVbDZZJ-Dh"
      ],
      "authorship_tag": "ABX9TyMe9cBB7FKpdtoMu5AqNdam",
      "include_colab_link": true
    },
    "kernelspec": {
      "name": "python3",
      "display_name": "Python 3"
    },
    "language_info": {
      "name": "python"
    }
  },
  "cells": [
    {
      "cell_type": "markdown",
      "metadata": {
        "id": "view-in-github",
        "colab_type": "text"
      },
      "source": [
        "<a href=\"https://colab.research.google.com/github/anilkumarKanasani/LangchainSideProjects/blob/main/3_Find_similar_things.ipynb\" target=\"_parent\"><img src=\"https://colab.research.google.com/assets/colab-badge.svg\" alt=\"Open In Colab\"/></a>"
      ]
    },
    {
      "cell_type": "markdown",
      "source": [
        "## Installation"
      ],
      "metadata": {
        "id": "CoXVbDZZJ-Dh"
      }
    },
    {
      "cell_type": "code",
      "execution_count": 117,
      "metadata": {
        "id": "57TOGXHXCVTm",
        "colab": {
          "base_uri": "https://localhost:8080/"
        },
        "outputId": "9997ba6b-fc68-4078-d68e-ab88ccb3c6ab"
      },
      "outputs": [
        {
          "output_type": "stream",
          "name": "stdout",
          "text": [
            "\u001b[2K     \u001b[90m━━━━━━━━━━━━━━━━━━━━━━━━━━━━━━━━━━━━━━━━\u001b[0m \u001b[32m17.6/17.6 MB\u001b[0m \u001b[31m67.1 MB/s\u001b[0m eta \u001b[36m0:00:00\u001b[0m\n",
            "\u001b[?25h"
          ]
        }
      ],
      "source": [
        "!pip install langchain -q\n",
        "!pip install Openai -q\n",
        "!pip install tiktoken -q\n",
        "!pip install faiss-cpu -q\n",
        "!pip install environs -q\n",
        "!pip install streamlit -q"
      ]
    },
    {
      "cell_type": "code",
      "source": [
        "from environs import Env\n",
        "env = Env()\n",
        "# Read .env into os.environ\n",
        "env.read_env(\"./env\")"
      ],
      "metadata": {
        "id": "9dMfk5-VGWaW"
      },
      "execution_count": 118,
      "outputs": []
    },
    {
      "cell_type": "markdown",
      "source": [
        "## Simple Embedding Trails"
      ],
      "metadata": {
        "id": "YRNVeWGPJ5aH"
      }
    },
    {
      "cell_type": "code",
      "source": [
        "from langchain.embeddings import OpenAIEmbeddings\n",
        "\n",
        "# Preparing the model instance\n",
        "emb_model_instance = OpenAIEmbeddings()"
      ],
      "metadata": {
        "id": "Ey01SC8GSgGO"
      },
      "execution_count": 100,
      "outputs": []
    },
    {
      "cell_type": "code",
      "source": [
        "our_text = \"Hello buddy, How are you ?\"\n",
        "text_embedding = emb_model_instance.embed_query(our_text)\n",
        "text_embedding[:5] , len(text_embedding)"
      ],
      "metadata": {
        "colab": {
          "base_uri": "https://localhost:8080/"
        },
        "id": "6HwILr9Agj0E",
        "outputId": "df576f62-1a09-4b87-9d8b-9a07cbba088a"
      },
      "execution_count": 97,
      "outputs": [
        {
          "output_type": "execute_result",
          "data": {
            "text/plain": [
              "([-0.0007375669341444657,\n",
              "  -0.0011846385375510193,\n",
              "  0.004039422897024591,\n",
              "  -0.04515867854349896,\n",
              "  -0.021880208484231264],\n",
              " 1536)"
            ]
          },
          "metadata": {},
          "execution_count": 97
        }
      ]
    },
    {
      "cell_type": "code",
      "source": [
        "cluster_of_words = [\"School\", \"College\", \"KinderGarden\", \"University\",\n",
        "                    \"circket\", \"Football\", \"Tennis\", \"Basketball\",\n",
        "                    \"Apple\", \"Orange\", \"Banana\"\n",
        "                    ]\n",
        "\n",
        "cluster_of_embed = []\n",
        "\n",
        "for word in cluster_of_words:\n",
        "  cluster_of_embed.append(emb_model_instance.embed_query(word))"
      ],
      "metadata": {
        "id": "q9mooFewiAre"
      },
      "execution_count": 109,
      "outputs": []
    },
    {
      "cell_type": "code",
      "source": [
        "cluster_of_embed[0][:5], len(cluster_of_embed[0])"
      ],
      "metadata": {
        "colab": {
          "base_uri": "https://localhost:8080/"
        },
        "id": "jnwFNaU0jIxf",
        "outputId": "1aea44ad-78af-4d9e-d653-b61d91638cb4"
      },
      "execution_count": 110,
      "outputs": [
        {
          "output_type": "execute_result",
          "data": {
            "text/plain": [
              "([0.005531371094329331,\n",
              "  0.009264198113213265,\n",
              "  -0.004652460096353183,\n",
              "  -0.02226122277964918,\n",
              "  -0.02296706656959415],\n",
              " 1536)"
            ]
          },
          "metadata": {},
          "execution_count": 110
        }
      ]
    },
    {
      "cell_type": "code",
      "source": [
        "our_new_word = \"Black Board\"\n",
        "our_new_embed = emb_model_instance.embed_query(our_new_word)"
      ],
      "metadata": {
        "id": "jVtLz30kjXaT"
      },
      "execution_count": 115,
      "outputs": []
    },
    {
      "cell_type": "code",
      "source": [
        "from IPython.terminal.embed import embed\n",
        "from openai.embeddings_utils import cosine_similarity\n",
        "\n",
        "for word,embed in zip(cluster_of_words, cluster_of_embed):\n",
        "  print(word, \" has a scrore of \", str(round(cosine_similarity(embed, our_new_embed),2)) , \" with \", our_new_word)"
      ],
      "metadata": {
        "colab": {
          "base_uri": "https://localhost:8080/"
        },
        "id": "qcvuXSncje18",
        "outputId": "e23dbee3-42d7-4393-fa16-f38e74496928"
      },
      "execution_count": 116,
      "outputs": [
        {
          "output_type": "stream",
          "name": "stdout",
          "text": [
            "School  has a scrore of  0.82  with  Black Board\n",
            "College  has a scrore of  0.81  with  Black Board\n",
            "KinderGarden  has a scrore of  0.79  with  Black Board\n",
            "University  has a scrore of  0.8  with  Black Board\n",
            "circket  has a scrore of  0.78  with  Black Board\n",
            "Football  has a scrore of  0.79  with  Black Board\n",
            "Tennis  has a scrore of  0.79  with  Black Board\n",
            "Basketball  has a scrore of  0.81  with  Black Board\n",
            "Apple  has a scrore of  0.78  with  Black Board\n",
            "Orange  has a scrore of  0.78  with  Black Board\n",
            "Banana  has a scrore of  0.8  with  Black Board\n"
          ]
        }
      ]
    },
    {
      "cell_type": "markdown",
      "source": [
        "## Real Time Embeddings App"
      ],
      "metadata": {
        "id": "HU9TNOomUuxC"
      }
    },
    {
      "cell_type": "markdown",
      "source": [
        "### Preparing Vector DB"
      ],
      "metadata": {
        "id": "-6jK1fTvodvl"
      }
    },
    {
      "cell_type": "code",
      "source": [
        "from langchain.embeddings import OpenAIEmbeddings\n",
        "from langchain.vectorstores import FAISS\n",
        "\n",
        "# Preparing the model instance\n",
        "emb_model_instance = OpenAIEmbeddings()\n",
        "\n",
        "from langchain.document_loaders.csv_loader import CSVLoader\n",
        "loader = CSVLoader(file_path=\"myData.csv\",\n",
        "                   csv_args={\"delimiter\": ',',\n",
        "                             \"quotechar\": '\"',\n",
        "                             \"fieldnames\":[\"Words\"]\n",
        "                             })\n",
        "\n",
        "data = loader.load()\n",
        "\n",
        "db = FAISS.from_documents(data, emb_model_instance)\n",
        "db.save_local(\"faiss_index\")"
      ],
      "metadata": {
        "id": "_uCvICUsnRUk"
      },
      "execution_count": 121,
      "outputs": []
    },
    {
      "cell_type": "markdown",
      "source": [
        "### Actual APP"
      ],
      "metadata": {
        "id": "3DV2FkBCog65"
      }
    },
    {
      "cell_type": "code",
      "source": [
        "%%writefile app.py\n",
        "import streamlit as st\n",
        "from langchain.embeddings import OpenAIEmbeddings\n",
        "from langchain.vectorstores import FAISS\n",
        "\n",
        "# Preparing the model instance\n",
        "emb_model_instance = OpenAIEmbeddings()\n",
        "\n",
        "\n",
        "st.set_page_config(page_title=\"Educate Kids\", page_icon=\":robot:\")\n",
        "st.header(\"Hey, Ask me some thing, I will give you similar words \")\n",
        "\n",
        "new_db = FAISS.load_local(\"faiss_index\", emb_model_instance)\n",
        "\n",
        "\n",
        "user_input = st.text_input(\"You : \", key=input)\n",
        "submit = st.button(\"Generate similar Words\")\n",
        "\n",
        "if submit:\n",
        "  similar_words = new_db.similarity_search(user_input)\n",
        "  for wrd in similar_words[:2]:\n",
        "    st.text(wrd.page_content)"
      ],
      "metadata": {
        "colab": {
          "base_uri": "https://localhost:8080/"
        },
        "id": "ZMFDShcpJ74P",
        "outputId": "e755756f-4509-4ba0-c402-90205bc41f39"
      },
      "execution_count": 128,
      "outputs": [
        {
          "output_type": "stream",
          "name": "stdout",
          "text": [
            "Overwriting app.py\n"
          ]
        }
      ]
    },
    {
      "cell_type": "code",
      "source": [
        "!streamlit run app.py & npx localtunnel --port 8501"
      ],
      "metadata": {
        "id": "7fvm37xyMpz7"
      },
      "execution_count": null,
      "outputs": []
    }
  ]
}