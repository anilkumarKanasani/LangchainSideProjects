{
 "cells": [
  {
   "cell_type": "markdown",
   "metadata": {},
   "source": [
    "![Data_connections.png](imgs/Data_connections.png)"
   ]
  },
  {
   "cell_type": "code",
   "execution_count": 12,
   "metadata": {},
   "outputs": [],
   "source": [
    "from environs import Env\n",
    "env = Env()\n",
    "\n",
    "# Read .env into os.environ\n",
    "env.read_env(\".env\")"
   ]
  },
  {
   "cell_type": "markdown",
   "metadata": {},
   "source": [
    "## Document Loaders"
   ]
  },
  {
   "cell_type": "code",
   "execution_count": 15,
   "metadata": {},
   "outputs": [
    {
     "data": {
      "text/plain": [
       "1"
      ]
     },
     "execution_count": 15,
     "metadata": {},
     "output_type": "execute_result"
    }
   ],
   "source": [
    "from langchain.document_loaders import TextLoader\n",
    "loader = TextLoader('Sample.txt')\n",
    "documents = loader.load()\n",
    "len(documents)"
   ]
  },
  {
   "cell_type": "markdown",
   "metadata": {},
   "source": [
    "## Document Transformations"
   ]
  },
  {
   "cell_type": "code",
   "execution_count": 16,
   "metadata": {},
   "outputs": [
    {
     "name": "stderr",
     "output_type": "stream",
     "text": [
      "Created a chunk of size 486, which is longer than the specified 200\n",
      "Created a chunk of size 426, which is longer than the specified 200\n",
      "Created a chunk of size 419, which is longer than the specified 200\n",
      "Created a chunk of size 498, which is longer than the specified 200\n",
      "Created a chunk of size 319, which is longer than the specified 200\n",
      "Created a chunk of size 436, which is longer than the specified 200\n",
      "Created a chunk of size 309, which is longer than the specified 200\n",
      "Created a chunk of size 365, which is longer than the specified 200\n",
      "Created a chunk of size 288, which is longer than the specified 200\n",
      "Created a chunk of size 320, which is longer than the specified 200\n",
      "Created a chunk of size 354, which is longer than the specified 200\n",
      "Created a chunk of size 263, which is longer than the specified 200\n",
      "Created a chunk of size 339, which is longer than the specified 200\n",
      "Created a chunk of size 338, which is longer than the specified 200\n",
      "Created a chunk of size 366, which is longer than the specified 200\n"
     ]
    }
   ],
   "source": [
    "from langchain.text_splitter import CharacterTextSplitter\n",
    "text_splitter = CharacterTextSplitter (chunk_size=200, chunk_overlap=0)\n",
    "\n",
    "texts= text_splitter.split_documents(documents)"
   ]
  },
  {
   "cell_type": "code",
   "execution_count": 17,
   "metadata": {},
   "outputs": [
    {
     "data": {
      "text/plain": [
       "19"
      ]
     },
     "execution_count": 17,
     "metadata": {},
     "output_type": "execute_result"
    }
   ],
   "source": [
    "len(texts)"
   ]
  },
  {
   "cell_type": "code",
   "execution_count": 18,
   "metadata": {},
   "outputs": [
    {
     "data": {
      "text/plain": [
       "[Document(page_content='India, officially known as the Republic of India, is a diverse and vibrant country located in South Asia. With a rich history spanning thousands of years, India is known for its cultural heritage, religious diversity, and vast landscapes. From the majestic Himalayas in the north to the serene backwaters of Kerala in the south, India encompasses a wide range of geographical features, including deserts, plains, mountains, and coastlines, making it a land of incredible natural beauty.', metadata={'source': 'Sample.txt'}),\n",
       " Document(page_content='India is the seventh-largest country by land area and the second-most populous country in the world, with a population exceeding 1.3 billion people. It is a federal parliamentary democratic republic, with a president as the head of state and a prime minister as the head of government. The country follows a multi-tiered administrative structure, with 28 states and 9 union territories, each having its own elected government.', metadata={'source': 'Sample.txt'}),\n",
       " Document(page_content=\"India has a rich cultural heritage that has evolved over thousands of years. It is home to various religions, including Hinduism, Islam, Christianity, Sikhism, Buddhism, and Jainism, among others. These religions coexist harmoniously, contributing to India's multicultural fabric. Festivals like Diwali, Eid, Christmas, and Holi are celebrated with great enthusiasm and bring people from different communities together.\", metadata={'source': 'Sample.txt'}),\n",
       " Document(page_content=\"The history of India is characterized by ancient civilizations, invasions, and the establishment of powerful empires. The Indus Valley Civilization, one of the world's oldest urban civilizations, flourished in the northwestern part of the Indian subcontinent around 2500 BCE. Over the centuries, India witnessed the rise and fall of several dynasties, including the Maurya, Gupta, and Mughal empires. The Mughal period, in particular, left a lasting impact on Indian culture, art, and architecture.\", metadata={'source': 'Sample.txt'}),\n",
       " Document(page_content=\"India's struggle for independence from British colonial rule is a significant chapter in its history. Led by Mahatma Gandhi and other freedom fighters, the non-violent resistance movement gained momentum and eventually led to India's independence on August 15, 1947. This day is celebrated annually as Independence Day.\", metadata={'source': 'Sample.txt'}),\n",
       " Document(page_content=\"India's economy is one of the fastest-growing in the world. It has transitioned from an agrarian economy to a service-oriented and industrialized economy. The country is known for its software and information technology services, pharmaceuticals, textiles, agriculture, and manufacturing sectors. Major cities like Mumbai, Delhi, Bangalore, and Chennai are hubs of business and commerce, attracting investments and fostering innovation.\", metadata={'source': 'Sample.txt'}),\n",
       " Document(page_content='Delhi is the capital of India', metadata={'source': 'Sample.txt'}),\n",
       " Document(page_content='However, India also faces various socio-economic challenges. Poverty, income inequality, and unemployment are persistent issues that the country strives to address. Efforts are being made to improve education, healthcare, infrastructure, and social welfare programs to uplift marginalized sections of society.', metadata={'source': 'Sample.txt'}),\n",
       " Document(page_content='Education plays a vital role in India, with a strong emphasis on academic excellence. The country has a vast network of schools, colleges, and universities, producing a large number of graduates every year. Indian professionals have made significant contributions in various fields globally, particularly in science, technology, engineering, and mathematics (STEM).', metadata={'source': 'Sample.txt'}),\n",
       " Document(page_content='The Indian film industry, popularly known as Bollywood, is a global phenomenon, producing the largest number of films annually. Indian cinema reflects the diversity and cultural richness of the country and has a massive following both within India and among the Indian diaspora worldwide.', metadata={'source': 'Sample.txt'}),\n",
       " Document(page_content='Indian cuisine is renowned for its flavors, spices, and regional specialties. Each state has its own culinary traditions, offering a wide range of vegetarian and non-vegetarian dishes. Indian food has gained international popularity, with dishes like curry, biryani, dosa, and tandoori being enjoyed by people worldwide.', metadata={'source': 'Sample.txt'}),\n",
       " Document(page_content='The Indian rupee is the official currency in the Republic of India. The rupee is subdivided into 100 paise. The issuance of the currency is controlled by the Reserve Bank of India.', metadata={'source': 'Sample.txt'}),\n",
       " Document(page_content='The Indian rupee sign (₹) is the currency symbol for the Indian rupee the official currency of India', metadata={'source': 'Sample.txt'}),\n",
       " Document(page_content=\"Tourism is a significant contributor to India's economy. The country attracts millions of visitors each year who come to explore its historical sites, architectural wonders, wildlife sanctuaries, and scenic landscapes. Iconic landmarks such as the Taj Mahal, Jaipur's palaces, Kerala's backwaters, and the beaches of Goa are popular tourist destinations.\", metadata={'source': 'Sample.txt'}),\n",
       " Document(page_content=\"India's cultural heritage is preserved in its ancient monuments and UNESCO World Heritage Sites. From the intricate carvings of Khajuraho temples to the majestic forts of Rajasthan, these architectural marvels reflect India's rich history and artistic traditions.\", metadata={'source': 'Sample.txt'}),\n",
       " Document(page_content=\"India's diversity extends to its languages as well. While Hindi and English are the official languages at the national level, there are 22 officially recognized regional languages, including Bengali, Tamil, Telugu, Marathi, Urdu, Punjabi, and Gujarati, among others. This linguistic diversity is a testament to India's multicultural ethos.\", metadata={'source': 'Sample.txt'}),\n",
       " Document(page_content='In recent years, India has made significant strides in space exploration. The Indian Space Research Organization (ISRO) has successfully launched satellites and missions, including the Mars Orbiter Mission (MOM), also known as Mangalyaan. These achievements have placed India among the elite group of nations with advanced space programs.', metadata={'source': 'Sample.txt'}),\n",
       " Document(page_content=\"India's diplomatic influence is also growing on the global stage. The country actively participates in international forums and has strong bilateral relations with nations around the world. India is a founding member of the Non-Aligned Movement and plays an active role in various international organizations, such as the United Nations and World Trade Organization.\", metadata={'source': 'Sample.txt'}),\n",
       " Document(page_content='In conclusion, India is a vast and diverse country with a rich cultural heritage, stunning landscapes, and a rapidly growing economy. It is a nation where ancient traditions coexist with modern aspirations. Despite its challenges, India continues to evolve and leave an indelible mark on the world, making it a fascinating and dynamic country to explore.', metadata={'source': 'Sample.txt'})]"
      ]
     },
     "execution_count": 18,
     "metadata": {},
     "output_type": "execute_result"
    }
   ],
   "source": [
    "texts"
   ]
  },
  {
   "cell_type": "markdown",
   "metadata": {},
   "source": [
    "## Text embedding models\n",
    "#### Take unstructured text and turn it into a list of floating point numbers"
   ]
  },
  {
   "cell_type": "code",
   "execution_count": 23,
   "metadata": {},
   "outputs": [
    {
     "data": {
      "application/vnd.jupyter.widget-view+json": {
       "model_id": "744b17e5c326441495190ba1aacc018d",
       "version_major": 2,
       "version_minor": 0
      },
      "text/plain": [
       "Downloading (…)e9125/.gitattributes:   0%|          | 0.00/1.18k [00:00<?, ?B/s]"
      ]
     },
     "metadata": {},
     "output_type": "display_data"
    },
    {
     "data": {
      "application/vnd.jupyter.widget-view+json": {
       "model_id": "0ec51cb2807a4b0986082c69c9a984d5",
       "version_major": 2,
       "version_minor": 0
      },
      "text/plain": [
       "Downloading (…)_Pooling/config.json:   0%|          | 0.00/190 [00:00<?, ?B/s]"
      ]
     },
     "metadata": {},
     "output_type": "display_data"
    },
    {
     "data": {
      "application/vnd.jupyter.widget-view+json": {
       "model_id": "a9124c9da0fe4847822d518d332cc13a",
       "version_major": 2,
       "version_minor": 0
      },
      "text/plain": [
       "Downloading (…)7e55de9125/README.md:   0%|          | 0.00/10.6k [00:00<?, ?B/s]"
      ]
     },
     "metadata": {},
     "output_type": "display_data"
    },
    {
     "data": {
      "application/vnd.jupyter.widget-view+json": {
       "model_id": "d509f86d30e74fe383a93a5b6f233bf6",
       "version_major": 2,
       "version_minor": 0
      },
      "text/plain": [
       "Downloading (…)55de9125/config.json:   0%|          | 0.00/612 [00:00<?, ?B/s]"
      ]
     },
     "metadata": {},
     "output_type": "display_data"
    },
    {
     "data": {
      "application/vnd.jupyter.widget-view+json": {
       "model_id": "6d906391a3c045cbacc19801f57b190e",
       "version_major": 2,
       "version_minor": 0
      },
      "text/plain": [
       "Downloading (…)ce_transformers.json:   0%|          | 0.00/116 [00:00<?, ?B/s]"
      ]
     },
     "metadata": {},
     "output_type": "display_data"
    },
    {
     "data": {
      "application/vnd.jupyter.widget-view+json": {
       "model_id": "03b3630240ad4984905a3ff7b2d5375e",
       "version_major": 2,
       "version_minor": 0
      },
      "text/plain": [
       "Downloading (…)125/data_config.json:   0%|          | 0.00/39.3k [00:00<?, ?B/s]"
      ]
     },
     "metadata": {},
     "output_type": "display_data"
    },
    {
     "data": {
      "application/vnd.jupyter.widget-view+json": {
       "model_id": "9613f38b396b4ec2be138f94580b5324",
       "version_major": 2,
       "version_minor": 0
      },
      "text/plain": [
       "Downloading pytorch_model.bin:   0%|          | 0.00/90.9M [00:00<?, ?B/s]"
      ]
     },
     "metadata": {},
     "output_type": "display_data"
    },
    {
     "data": {
      "application/vnd.jupyter.widget-view+json": {
       "model_id": "391c200f97024fa4b63ef2cab3bd292c",
       "version_major": 2,
       "version_minor": 0
      },
      "text/plain": [
       "Downloading (…)nce_bert_config.json:   0%|          | 0.00/53.0 [00:00<?, ?B/s]"
      ]
     },
     "metadata": {},
     "output_type": "display_data"
    },
    {
     "data": {
      "application/vnd.jupyter.widget-view+json": {
       "model_id": "23247cf92fe94ffd821a5baef7e72bf1",
       "version_major": 2,
       "version_minor": 0
      },
      "text/plain": [
       "Downloading (…)cial_tokens_map.json:   0%|          | 0.00/112 [00:00<?, ?B/s]"
      ]
     },
     "metadata": {},
     "output_type": "display_data"
    },
    {
     "data": {
      "application/vnd.jupyter.widget-view+json": {
       "model_id": "98089704ed99428eb536d151372db532",
       "version_major": 2,
       "version_minor": 0
      },
      "text/plain": [
       "Downloading (…)e9125/tokenizer.json:   0%|          | 0.00/466k [00:00<?, ?B/s]"
      ]
     },
     "metadata": {},
     "output_type": "display_data"
    },
    {
     "data": {
      "application/vnd.jupyter.widget-view+json": {
       "model_id": "736b87750b3d4d5ebece80a3e4128dd4",
       "version_major": 2,
       "version_minor": 0
      },
      "text/plain": [
       "Downloading (…)okenizer_config.json:   0%|          | 0.00/350 [00:00<?, ?B/s]"
      ]
     },
     "metadata": {},
     "output_type": "display_data"
    },
    {
     "data": {
      "application/vnd.jupyter.widget-view+json": {
       "model_id": "eb74cf6e9fdf469fb62984c061dba07a",
       "version_major": 2,
       "version_minor": 0
      },
      "text/plain": [
       "Downloading (…)9125/train_script.py:   0%|          | 0.00/13.2k [00:00<?, ?B/s]"
      ]
     },
     "metadata": {},
     "output_type": "display_data"
    },
    {
     "data": {
      "application/vnd.jupyter.widget-view+json": {
       "model_id": "29af550642134ec49dc6045227ca3962",
       "version_major": 2,
       "version_minor": 0
      },
      "text/plain": [
       "Downloading (…)7e55de9125/vocab.txt:   0%|          | 0.00/232k [00:00<?, ?B/s]"
      ]
     },
     "metadata": {},
     "output_type": "display_data"
    },
    {
     "data": {
      "application/vnd.jupyter.widget-view+json": {
       "model_id": "20ffed4b99b24831b8fcb66687fc726b",
       "version_major": 2,
       "version_minor": 0
      },
      "text/plain": [
       "Downloading (…)5de9125/modules.json:   0%|          | 0.00/349 [00:00<?, ?B/s]"
      ]
     },
     "metadata": {},
     "output_type": "display_data"
    }
   ],
   "source": [
    "# from langchain.embeddings import OpenAIEmbeddings\n",
    "# embeddings = OpenAIEmbeddings(deployment=env(\"AZURE_EMBEDDING_DEPLOYMENT\"))\n",
    "\n",
    "\n",
    "from langchain.embeddings.sentence_transformer import SentenceTransformerEmbeddings\n",
    "embeddings = SentenceTransformerEmbeddings(model_name=\"all-MiniLM-L6-v2\")"
   ]
  },
  {
   "cell_type": "markdown",
   "metadata": {},
   "source": [
    "## Vector stores\n",
    "#### Store and search over embedded data"
   ]
  },
  {
   "cell_type": "code",
   "execution_count": 24,
   "metadata": {},
   "outputs": [],
   "source": [
    "from langchain.vectorstores import Chroma\n",
    "db = Chroma.from_documents(texts, embeddings)"
   ]
  },
  {
   "cell_type": "code",
   "execution_count": null,
   "metadata": {},
   "outputs": [],
   "source": [
    "db._collection.get(include=['embeddings'])"
   ]
  },
  {
   "cell_type": "markdown",
   "metadata": {},
   "source": [
    "## Retrievers\n",
    "#### Query your data"
   ]
  },
  {
   "cell_type": "code",
   "execution_count": 33,
   "metadata": {},
   "outputs": [
    {
     "data": {
      "text/plain": [
       "VectorStoreRetriever(vectorstore=<langchain.vectorstores.chroma.Chroma object at 0x1411892a0>, search_type='similarity', search_kwargs={'k': 5})"
      ]
     },
     "execution_count": 33,
     "metadata": {},
     "output_type": "execute_result"
    }
   ],
   "source": [
    "retriever = db.as_retriever(search_kwargs={\"k\": 5})\n",
    "retriever"
   ]
  },
  {
   "cell_type": "markdown",
   "metadata": {},
   "source": [
    "## Question 1 to db"
   ]
  },
  {
   "cell_type": "code",
   "execution_count": 34,
   "metadata": {},
   "outputs": [
    {
     "data": {
      "text/plain": [
       "[Document(page_content='Delhi is the capital of India', metadata={'source': 'Sample.txt'}),\n",
       " Document(page_content='India, officially known as the Republic of India, is a diverse and vibrant country located in South Asia. With a rich history spanning thousands of years, India is known for its cultural heritage, religious diversity, and vast landscapes. From the majestic Himalayas in the north to the serene backwaters of Kerala in the south, India encompasses a wide range of geographical features, including deserts, plains, mountains, and coastlines, making it a land of incredible natural beauty.', metadata={'source': 'Sample.txt'}),\n",
       " Document(page_content='India is the seventh-largest country by land area and the second-most populous country in the world, with a population exceeding 1.3 billion people. It is a federal parliamentary democratic republic, with a president as the head of state and a prime minister as the head of government. The country follows a multi-tiered administrative structure, with 28 states and 9 union territories, each having its own elected government.', metadata={'source': 'Sample.txt'}),\n",
       " Document(page_content=\"India's economy is one of the fastest-growing in the world. It has transitioned from an agrarian economy to a service-oriented and industrialized economy. The country is known for its software and information technology services, pharmaceuticals, textiles, agriculture, and manufacturing sectors. Major cities like Mumbai, Delhi, Bangalore, and Chennai are hubs of business and commerce, attracting investments and fostering innovation.\", metadata={'source': 'Sample.txt'}),\n",
       " Document(page_content='The Indian rupee is the official currency in the Republic of India. The rupee is subdivided into 100 paise. The issuance of the currency is controlled by the Reserve Bank of India.', metadata={'source': 'Sample.txt'})]"
      ]
     },
     "execution_count": 34,
     "metadata": {},
     "output_type": "execute_result"
    }
   ],
   "source": [
    "docs = retriever.get_relevant_documents(\"What is the capital of india?\")\n",
    "docs"
   ]
  },
  {
   "cell_type": "markdown",
   "metadata": {},
   "source": [
    "## Questio 2 to db"
   ]
  },
  {
   "cell_type": "code",
   "execution_count": 35,
   "metadata": {},
   "outputs": [
    {
     "data": {
      "text/plain": [
       "[Document(page_content='The Indian rupee is the official currency in the Republic of India. The rupee is subdivided into 100 paise. The issuance of the currency is controlled by the Reserve Bank of India.', metadata={'source': 'Sample.txt'}),\n",
       " Document(page_content='The Indian rupee sign (₹) is the currency symbol for the Indian rupee the official currency of India', metadata={'source': 'Sample.txt'}),\n",
       " Document(page_content=\"India's economy is one of the fastest-growing in the world. It has transitioned from an agrarian economy to a service-oriented and industrialized economy. The country is known for its software and information technology services, pharmaceuticals, textiles, agriculture, and manufacturing sectors. Major cities like Mumbai, Delhi, Bangalore, and Chennai are hubs of business and commerce, attracting investments and fostering innovation.\", metadata={'source': 'Sample.txt'}),\n",
       " Document(page_content='Delhi is the capital of India', metadata={'source': 'Sample.txt'}),\n",
       " Document(page_content='India is the seventh-largest country by land area and the second-most populous country in the world, with a population exceeding 1.3 billion people. It is a federal parliamentary democratic republic, with a president as the head of state and a prime minister as the head of government. The country follows a multi-tiered administrative structure, with 28 states and 9 union territories, each having its own elected government.', metadata={'source': 'Sample.txt'})]"
      ]
     },
     "execution_count": 35,
     "metadata": {},
     "output_type": "execute_result"
    }
   ],
   "source": [
    "docs = retriever.get_relevant_documents(\"What is the currency india?\")\n",
    "docs"
   ]
  }
 ],
 "metadata": {
  "kernelspec": {
   "display_name": "llm_applicaiton",
   "language": "python",
   "name": "python3"
  },
  "language_info": {
   "codemirror_mode": {
    "name": "ipython",
    "version": 3
   },
   "file_extension": ".py",
   "mimetype": "text/x-python",
   "name": "python",
   "nbconvert_exporter": "python",
   "pygments_lexer": "ipython3",
   "version": "3.10.0"
  }
 },
 "nbformat": 4,
 "nbformat_minor": 2
}
